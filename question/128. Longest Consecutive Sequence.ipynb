{
 "cells": [
  {
   "cell_type": "markdown",
   "metadata": {},
   "source": [
    "128. Longest Consecutive Sequence\n",
    "\n",
    "\n",
    "https://leetcode.com/problems/longest-consecutive-sequence/description/\n",
    "\n",
    "\n",
    "Solved\n",
    "Medium\n",
    "\n",
    "\n",
    "https://youtu.be/P6RZZMu_maU\n",
    "\n",
    "\n",
    "Given an unsorted array of integers nums, return the length of the longest consecutive elements sequence.\n",
    "\n",
    "You must write an algorithm that runs in O(n) time.\n",
    "\n",
    " \n",
    "\n",
    "Example 1:\n",
    "\n",
    "Input: nums = [100,4,200,1,3,2]\n",
    "Output: 4\n",
    "Explanation: The longest consecutive elements sequence is [1, 2, 3, 4]. Therefore its length is 4.\n",
    "Example 2:\n",
    "\n",
    "Input: nums = [0,3,7,2,5,8,4,6,0,1]\n",
    "Output: 9\n",
    " \n",
    "\n",
    "Constraints:\n",
    "\n",
    "0 <= nums.length <= 105\n",
    "-109 <= nums[i] <= 109"
   ]
  },
  {
   "cell_type": "code",
   "execution_count": 13,
   "metadata": {},
   "outputs": [
    {
     "name": "stdout",
     "output_type": "stream",
     "text": [
      "{1, 2}\n",
      "1\n",
      "2\n"
     ]
    }
   ],
   "source": [
    "l= [1,1,2]\n",
    "l= set(l) # remove duplicate\n",
    "print(l)\n",
    "for i in l:\n",
    "    print(i)"
   ]
  },
  {
   "cell_type": "code",
   "execution_count": 18,
   "metadata": {},
   "outputs": [],
   "source": [
    "#soll opt 1\n",
    "from typing import List\n",
    "\n",
    "class Solution:\n",
    "    def longestConsecutive(self, nums: List[int]) -> int:\n",
    "        nums = set(nums)\n",
    "        #specific case\n",
    "        if len(nums) == 0:\n",
    "            return 0\n",
    "        elif len(nums) == 1:\n",
    "            return 1\n",
    "        \n",
    "        #genral case\n",
    "        max_con = 0\n",
    "        \n",
    "        for n in nums:\n",
    "            #check If it is start of a sequence\n",
    "            current_con = 1\n",
    "            if n-1 not in nums:\n",
    "                while n+1 in nums:\n",
    "                    # While consecutive Number are found increase length\n",
    "                    current_con +=1\n",
    "                    n = n+1\n",
    "            if current_con > max_con:\n",
    "                max_con = current_con  \n",
    "                            \n",
    "        return max_con"
   ]
  },
  {
   "cell_type": "code",
   "execution_count": 14,
   "metadata": {},
   "outputs": [],
   "source": [
    "#sol 1\n",
    "from typing import List\n",
    "\n",
    "class Solution:\n",
    "    def longestConsecutive(self, nums: List[int]) -> int:\n",
    "        nums = list(set(nums))\n",
    "        nums = sorted(nums)\n",
    "        if len(nums) == 0:\n",
    "            return 0\n",
    "\n",
    "        max_con = 0\n",
    "        current_con =1\n",
    "        for i in range(1,len(nums)):\n",
    "            if nums[i]-nums[i-1]==1:\n",
    "                current_con +=1\n",
    "            else:\n",
    "                if current_con > max_con:\n",
    "                    max_con = current_con\n",
    "                current_con = 1\n",
    "        \n",
    "        if current_con > max_con:\n",
    "            max_con = current_con\n",
    "                \n",
    "        return max_con"
   ]
  },
  {
   "cell_type": "code",
   "execution_count": 19,
   "metadata": {},
   "outputs": [
    {
     "name": "stdout",
     "output_type": "stream",
     "text": [
      "tc passed\n",
      "tc passed\n",
      "tc passed\n",
      "tc passed\n"
     ]
    }
   ],
   "source": [
    "def run_test_case():\n",
    "            s = Solution()\n",
    "    \n",
    "            # Example 1\n",
    "            result = s.longestConsecutive(nums = [100,4,200,1,3,2])\n",
    "            output_param = 4\n",
    "            if result != output_param:\n",
    "                print('expected result -',output_param)\n",
    "                print('got result -',result)\n",
    "            else:\n",
    "                print('tc passed')\n",
    "            \n",
    "            # Example 2\n",
    "            result = s.longestConsecutive(nums = [0,3,7,2,5,8,4,6,0,1])\n",
    "            output_param = 9\n",
    "            if result != output_param:\n",
    "                print('expected result -',output_param)\n",
    "                print('got result -',result)\n",
    "            else:\n",
    "                print('tc passed')\n",
    "            \n",
    "            # Example 3\n",
    "            result = s.longestConsecutive(nums = [0,100,7,2,5,8,4,6,0,1])\n",
    "            output_param = 5\n",
    "            if result != output_param:\n",
    "                print('expected result -',output_param)\n",
    "                print('got result -',result)\n",
    "            else:\n",
    "                print('tc passed')\n",
    "            \n",
    "            # Example 4\n",
    "            result = s.longestConsecutive(nums = [0,3,7,2,5,8,4,6,0,1,-1,-2])\n",
    "            output_param = 11\n",
    "            if result != output_param:\n",
    "                print('expected result -',output_param)\n",
    "                print('got result -',result)\n",
    "            else:\n",
    "                print('tc passed')\n",
    "            \n",
    "run_test_case()"
   ]
  },
  {
   "cell_type": "code",
   "execution_count": null,
   "metadata": {},
   "outputs": [],
   "source": []
  }
 ],
 "metadata": {
  "kernelspec": {
   "display_name": "Python 3",
   "language": "python",
   "name": "python3"
  },
  "language_info": {
   "codemirror_mode": {
    "name": "ipython",
    "version": 3
   },
   "file_extension": ".py",
   "mimetype": "text/x-python",
   "name": "python",
   "nbconvert_exporter": "python",
   "pygments_lexer": "ipython3",
   "version": "3.12.1"
  }
 },
 "nbformat": 4,
 "nbformat_minor": 2
}
