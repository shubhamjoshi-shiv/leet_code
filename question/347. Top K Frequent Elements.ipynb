{
 "cells": [
  {
   "cell_type": "markdown",
   "metadata": {},
   "source": [
    "347. Top K Frequent Elements \n",
    "\n",
    "https://leetcode.com/problems/top-k-frequent-elements/description/\n",
    "\n",
    "Medium\n",
    "\n",
    "Given an integer array nums and an integer k, return the k most frequent elements. You may return the answer in any order.\n",
    "\n",
    " \n",
    "\n",
    "Example 1:\n",
    "\n",
    "Input: nums = [1,1,1,2,2,3], k = 2\n",
    "Output: [1,2]\n",
    "Example 2:\n",
    "\n",
    "Input: nums = [1], k = 1\n",
    "Output: [1]\n",
    " \n",
    "\n",
    "Constraints:\n",
    "\n",
    "1 <= nums.length <= 105\n",
    "-104 <= nums[i] <= 104\n",
    "k is in the range [1, the number of unique elements in the array].\n",
    "It is guaranteed that the answer is unique.\n",
    " \n",
    "\n",
    "Follow up: Your algorithm's time complexity must be better than O(n log n), where n is the array's size."
   ]
  },
  {
   "cell_type": "code",
   "execution_count": 35,
   "metadata": {},
   "outputs": [],
   "source": [
    "#sol opt\n",
    "from typing import List\n",
    "\n",
    "class Solution:\n",
    "    def topKFrequent(self, nums: List[int], k: int) -> List[int]:\n",
    "        integer_freq_map = {}\n",
    "        nums_len = len(nums)\n",
    "        freq_integer_list = [[]]*nums_len\n",
    "        \n",
    "        for i in nums:\n",
    "            integer_freq_map[i] = integer_freq_map.get(i,0)+1\n",
    "        \n",
    "        for i in integer_freq_map:\n",
    "            freq = integer_freq_map[i]\n",
    "            freq_integer_list[freq].append(i)        \n",
    "            \n",
    "        \n",
    "        result = []\n",
    "        i = 0\n",
    "        while len(result)<k:\n",
    "            result = result + freq_integer_map[freq_sorted_list[i]]\n",
    "            i += 1\n",
    "        \n",
    "        # print(result)\n",
    "        return result"
   ]
  },
  {
   "cell_type": "code",
   "execution_count": 37,
   "metadata": {},
   "outputs": [],
   "source": [
    "#sol 1\n",
    "from typing import List\n",
    "\n",
    "class Solution:\n",
    "    def topKFrequent(self, nums: List[int], k: int) -> List[int]:\n",
    "        integer_freq_map = {}\n",
    "        freq_integer_map = {}\n",
    "        \n",
    "        for i in nums:\n",
    "            integer_freq_map[i] = integer_freq_map.get(i,0)+1\n",
    "        \n",
    "        for i in integer_freq_map:\n",
    "            freq = integer_freq_map[i]\n",
    "            if freq in freq_integer_map:\n",
    "                freq_integer_map[freq].append(i)\n",
    "            else:\n",
    "                freq_integer_map[freq] = [i]\n",
    "            \n",
    "        freq_sorted_list = list(freq_integer_map.keys())\n",
    "        freq_sorted_list.sort()\n",
    "        freq_sorted_list.reverse()\n",
    "        \n",
    "            \n",
    "        # print(\"integer_freq_map - \",integer_freq_map)\n",
    "        # print(\"freq_integer_map - \",freq_integer_map)\n",
    "        # print(\"freq_sorted_list - \",freq_sorted_list)\n",
    "        \n",
    "        result = []\n",
    "        i = 0\n",
    "        while len(result)<k:\n",
    "            result = result + freq_integer_map[freq_sorted_list[i]]\n",
    "            i += 1\n",
    "        \n",
    "        # print(result)\n",
    "        return result"
   ]
  },
  {
   "cell_type": "code",
   "execution_count": 31,
   "metadata": {},
   "outputs": [
    {
     "data": {
      "text/plain": [
       "[1, 2, 3]"
      ]
     },
     "execution_count": 31,
     "metadata": {},
     "output_type": "execute_result"
    }
   ],
   "source": [
    "#rough \n",
    "[1,2]+[3]"
   ]
  },
  {
   "cell_type": "code",
   "execution_count": 36,
   "metadata": {},
   "outputs": [
    {
     "name": "stdout",
     "output_type": "stream",
     "text": [
      "tc passed\n",
      "tc passed\n",
      "tc passed\n",
      "tc passed\n",
      "tc passed\n"
     ]
    }
   ],
   "source": [
    "def run_test_case():\n",
    "            s = Solution()\n",
    "    \n",
    "            # Example 1\n",
    "            result = s.topKFrequent(nums = [1,1,1,2,2,3], k = 2)\n",
    "            output_param = [1,2]\n",
    "            if result != output_param:\n",
    "                print('expected result -',output_param)\n",
    "                print('got result -',result)\n",
    "            else:\n",
    "                print('tc passed')\n",
    "            \n",
    "            # Example 2\n",
    "            result = s.topKFrequent(nums = [1], k = 1)\n",
    "            output_param = [1]\n",
    "            if result != output_param:\n",
    "                print('expected result -',output_param)\n",
    "                print('got result -',result)\n",
    "            else:\n",
    "                print('tc passed')\n",
    "            \n",
    "            # Example 3\n",
    "            result = s.topKFrequent(nums = [1,2,2,3,3,3,3,3], k = 2)\n",
    "            output_param = [3,2]\n",
    "            if result != output_param:\n",
    "                print('expected result -',output_param)\n",
    "                print('got result -',result)\n",
    "            else:\n",
    "                print('tc passed')\n",
    "            \n",
    "            # Example 4\n",
    "            result = s.topKFrequent(nums = [12,12,12,4,5,5,5,5,6,6], k = 3)\n",
    "            output_param = [5,12,6]\n",
    "            if result != output_param:\n",
    "                print('expected result -',output_param)\n",
    "                print('got result -',result)\n",
    "            else:\n",
    "                print('tc passed')\n",
    "            \n",
    "            # Example 5\n",
    "            result = s.topKFrequent(nums = [1,2], k = 2)\n",
    "            output_param = [1,2]\n",
    "            if result != output_param:\n",
    "                print('expected result -',output_param)\n",
    "                print('got result -',result)\n",
    "            else:\n",
    "                print('tc passed')\n",
    "            \n",
    "run_test_case()"
   ]
  }
 ],
 "metadata": {
  "kernelspec": {
   "display_name": "Python 3",
   "language": "python",
   "name": "python3"
  },
  "language_info": {
   "codemirror_mode": {
    "name": "ipython",
    "version": 3
   },
   "file_extension": ".py",
   "mimetype": "text/x-python",
   "name": "python",
   "nbconvert_exporter": "python",
   "pygments_lexer": "ipython3",
   "version": "3.12.1"
  }
 },
 "nbformat": 4,
 "nbformat_minor": 2
}
