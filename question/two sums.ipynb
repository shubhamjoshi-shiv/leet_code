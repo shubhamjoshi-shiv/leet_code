{
 "cells": [
  {
   "cell_type": "code",
   "execution_count": null,
   "metadata": {},
   "outputs": [],
   "source": [
    "\n",
    "def twoSum(self, nums: [int], target: int) -> [int]:\n",
    "    previous_hash_map = {}\n",
    "    for index,value in enumerate(nums):\n",
    "        search_value = target - value\n",
    "        if search_value in previous_hash_map:\n",
    "            return [previous_hash_map[search_value], index]\n",
    "        previous_hash_map[value]=index\n",
    "\n"
   ]
  }
 ],
 "metadata": {
  "language_info": {
   "name": "python"
  }
 },
 "nbformat": 4,
 "nbformat_minor": 2
}
