{
 "cells": [
  {
   "cell_type": "markdown",
   "metadata": {},
   "source": [
    "https://leetcode.com/problems/valid-anagram/\n",
    "\n",
    "Given two strings s and t, return true if t is an anagram of s, and false otherwise.\n",
    "\n",
    "Example 1:\n",
    "\n",
    "Input: s = \"anagram\", t = \"nagaram\"\n",
    "\n",
    "Output: true\n",
    "\n",
    "Example 2:\n",
    "\n",
    "Input: s = \"rat\", t = \"car\"\n",
    "\n",
    "Output: false\n",
    "\n",
    "Constraints:\n",
    "\n",
    "1 <= s.length, t.length <= 5 * 104\n",
    "s and t consist of lowercase English letters. \n",
    "\n",
    "Follow up: What if the inputs contain Unicode characters? How would you adapt your solution to such a case?"
   ]
  },
  {
   "cell_type": "markdown",
   "metadata": {},
   "source": [
    "Suggestions:\n",
    "Use only one dictionary\n",
    "\n",
    "Decrement character counts for the second string o If all values end up as 0, then the two strings are anagrams\n",
    "\n",
    "Use an array instead To save hash Calculation\n",
    "\"a\" → index 0\n",
    "\"b\" → index 1"
   ]
  },
  {
   "cell_type": "code",
   "execution_count": 26,
   "metadata": {},
   "outputs": [],
   "source": [
    "# best soll\n",
    "class Solution:\n",
    "    def isAnagram(self, s: str, t: str) -> bool:\n",
    "        print(\"best soll\")\n",
    "        return Counter(s) == Counter(t)"
   ]
  },
  {
   "cell_type": "code",
   "execution_count": null,
   "metadata": {},
   "outputs": [],
   "source": []
  },
  {
   "cell_type": "code",
   "execution_count": 21,
   "metadata": {},
   "outputs": [],
   "source": [
    "#sol optimum 1\n",
    "class Solution:\n",
    "    def isAnagram(self, s: str, t: str) -> bool:\n",
    "        print(\"sol optimum\")\n",
    "        car_map_s, car_map_t = {},{}\n",
    "        len_s = len(s)\n",
    "        len_t = len(t)\n",
    "        if len_s!= len_t :\n",
    "            return False\n",
    "        \n",
    "        for i in range(len_s):\n",
    "            car_map_s[s[i]] = car_map_s.get(s[i],0) + 1 \n",
    "            car_map_t[t[i]] = car_map_t.get(t[i],0) + 1\n",
    "        \n",
    "        return car_map_s == car_map_t\n"
   ]
  },
  {
   "cell_type": "code",
   "execution_count": 33,
   "metadata": {},
   "outputs": [],
   "source": [
    "#sol optimum 2\n",
    "class Solution:\n",
    "    def isAnagram(self, s: str, t: str) -> bool:\n",
    "        print(\"sol optimum 2\")\n",
    "        \n",
    "        len_s = len(s)\n",
    "        len_t = len(t)\n",
    "        if len_s!= len_t :\n",
    "            return False\n",
    "        \n",
    "        \n",
    "        car_map_s, car_map_t = [0]*26,[0]*26\n",
    "        for i in range(len_s):\n",
    "            car_s = ord(s[i])-97\n",
    "            car_t = ord(t[i])-97\n",
    "            car_map_s[car_s] += 1 \n",
    "            car_map_t[car_t] += 1 \n",
    "        \n",
    "        return car_map_s == car_map_t\n"
   ]
  },
  {
   "cell_type": "code",
   "execution_count": 12,
   "metadata": {},
   "outputs": [],
   "source": [
    "#sol 1\n",
    "class Solution:\n",
    "    def isAnagram(self, s: str, t: str) -> bool:\n",
    "        print(\"sol 1\")\n",
    "        car_map_s={}\n",
    "        car_map_t={}\n",
    "        for i in range(97,124):\n",
    "            car_map_s[i]=0\n",
    "            car_map_t[i]=0\n",
    "        # print(car_map_s)\n",
    "        \n",
    "        for c in s:\n",
    "            car_map_s[ord(c)] +=1 \n",
    "        for c in t:\n",
    "            car_map_t[ord(c)] +=1\n",
    "\n",
    "        for i in range(97,124):\n",
    "            if(car_map_s[i] != car_map_t[i]):\n",
    "                return False\n",
    "        return True"
   ]
  },
  {
   "cell_type": "code",
   "execution_count": 18,
   "metadata": {},
   "outputs": [],
   "source": [
    "# sol 2\n",
    "class Solution:\n",
    "    def isAnagram(self, s: str, t: str) -> bool:\n",
    "        print(\"sol 1\")\n",
    "        return sorted(s)==sorted(t)"
   ]
  },
  {
   "cell_type": "code",
   "execution_count": 34,
   "metadata": {},
   "outputs": [
    {
     "name": "stdout",
     "output_type": "stream",
     "text": [
      "sol optimum 2\n",
      "tc passed\n",
      "sol optimum 2\n",
      "tc passed\n"
     ]
    }
   ],
   "source": [
    "def run_test_case():\n",
    "            # Example 1\n",
    "            s = Solution()\n",
    "            result = s.isAnagram(s = \"anagram\", t = \"nagaram\")\n",
    "            output_param = True\n",
    "            if result != output_param:\n",
    "                print('expected result -',output_param)\n",
    "                print('got result -',result)\n",
    "            else:\n",
    "                print('tc passed')\n",
    "            \n",
    "            # Example 2\n",
    "            result = s.isAnagram(s = \"rat\", t = \"car\")\n",
    "            output_param = False\n",
    "            if result != output_param:\n",
    "                print('expected result -',output_param)\n",
    "                print('got result -',result)\n",
    "            else:\n",
    "                print('tc passed')\n",
    "            \n",
    "run_test_case()"
   ]
  },
  {
   "cell_type": "code",
   "execution_count": null,
   "metadata": {},
   "outputs": [],
   "source": []
  },
  {
   "cell_type": "markdown",
   "metadata": {},
   "source": []
  }
 ],
 "metadata": {
  "kernelspec": {
   "display_name": "Python 3",
   "language": "python",
   "name": "python3"
  },
  "language_info": {
   "codemirror_mode": {
    "name": "ipython",
    "version": 3
   },
   "file_extension": ".py",
   "mimetype": "text/x-python",
   "name": "python",
   "nbconvert_exporter": "python",
   "pygments_lexer": "ipython3",
   "version": "3.12.1"
  }
 },
 "nbformat": 4,
 "nbformat_minor": 2
}
