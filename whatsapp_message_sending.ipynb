{
 "cells": [
  {
   "cell_type": "code",
   "execution_count": null,
   "metadata": {},
   "outputs": [],
   "source": [
    "# !pip install pywhatkit\n",
    "import pywhatkit as kit\n",
    "\n",
    "# Replace with your phone number including the country code\n",
    "phone_number = \"+917531041006\"\n",
    "message = \"Hello! This is a test message.\"\n",
    "\n",
    "# Send the message at 1:30 PM\n",
    "kit.sendwhatmsg(phone_number, message, 7, 39,10)\n",
    "\n"
   ]
  }
 ],
 "metadata": {
  "language_info": {
   "name": "python"
  }
 },
 "nbformat": 4,
 "nbformat_minor": 2
}
